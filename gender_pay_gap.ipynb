{
 "cells": [
  {
   "cell_type": "code",
   "execution_count": 67,
   "metadata": {},
   "outputs": [],
   "source": [
    "import numpy as np\n",
    "import pandas as pd\n",
    "import matplotlib.pyplot as plt\n",
    "import sklearn as sk\n",
    "import seaborn as sns\n",
    "%matplotlib inline\n",
    "from sklearn.linear_model import LinearRegression"
   ]
  },
  {
   "cell_type": "code",
   "execution_count": 68,
   "metadata": {},
   "outputs": [],
   "source": [
    "#Let's read the data\n",
    "df = pd.read_csv('inc_occ_gender.csv', na_values = 'Na')"
   ]
  },
  {
   "cell_type": "code",
   "execution_count": 69,
   "metadata": {},
   "outputs": [
    {
     "data": {
      "text/html": [
       "<div>\n",
       "<style scoped>\n",
       "    .dataframe tbody tr th:only-of-type {\n",
       "        vertical-align: middle;\n",
       "    }\n",
       "\n",
       "    .dataframe tbody tr th {\n",
       "        vertical-align: top;\n",
       "    }\n",
       "\n",
       "    .dataframe thead th {\n",
       "        text-align: right;\n",
       "    }\n",
       "</style>\n",
       "<table border=\"1\" class=\"dataframe\">\n",
       "  <thead>\n",
       "    <tr style=\"text-align: right;\">\n",
       "      <th></th>\n",
       "      <th>Occupation</th>\n",
       "      <th>All_workers</th>\n",
       "      <th>All_weekly</th>\n",
       "      <th>M_workers</th>\n",
       "      <th>M_weekly</th>\n",
       "      <th>F_workers</th>\n",
       "      <th>F_weekly</th>\n",
       "    </tr>\n",
       "  </thead>\n",
       "  <tbody>\n",
       "    <tr>\n",
       "      <th>0</th>\n",
       "      <td>ALL OCCUPATIONS</td>\n",
       "      <td>109080</td>\n",
       "      <td>809.0</td>\n",
       "      <td>60746</td>\n",
       "      <td>895.0</td>\n",
       "      <td>48334</td>\n",
       "      <td>726.0</td>\n",
       "    </tr>\n",
       "    <tr>\n",
       "      <th>1</th>\n",
       "      <td>MANAGEMENT</td>\n",
       "      <td>12480</td>\n",
       "      <td>1351.0</td>\n",
       "      <td>7332</td>\n",
       "      <td>1486.0</td>\n",
       "      <td>5147</td>\n",
       "      <td>1139.0</td>\n",
       "    </tr>\n",
       "    <tr>\n",
       "      <th>2</th>\n",
       "      <td>Chief executives</td>\n",
       "      <td>1046</td>\n",
       "      <td>2041.0</td>\n",
       "      <td>763</td>\n",
       "      <td>2251.0</td>\n",
       "      <td>283</td>\n",
       "      <td>1836.0</td>\n",
       "    </tr>\n",
       "    <tr>\n",
       "      <th>3</th>\n",
       "      <td>General and operations managers</td>\n",
       "      <td>823</td>\n",
       "      <td>1260.0</td>\n",
       "      <td>621</td>\n",
       "      <td>1347.0</td>\n",
       "      <td>202</td>\n",
       "      <td>1002.0</td>\n",
       "    </tr>\n",
       "    <tr>\n",
       "      <th>4</th>\n",
       "      <td>Legislators</td>\n",
       "      <td>8</td>\n",
       "      <td>NaN</td>\n",
       "      <td>5</td>\n",
       "      <td>NaN</td>\n",
       "      <td>4</td>\n",
       "      <td>NaN</td>\n",
       "    </tr>\n",
       "  </tbody>\n",
       "</table>\n",
       "</div>"
      ],
      "text/plain": [
       "                        Occupation  All_workers  All_weekly  M_workers  \\\n",
       "0                  ALL OCCUPATIONS       109080       809.0      60746   \n",
       "1                       MANAGEMENT        12480      1351.0       7332   \n",
       "2                 Chief executives         1046      2041.0        763   \n",
       "3  General and operations managers          823      1260.0        621   \n",
       "4                      Legislators            8         NaN          5   \n",
       "\n",
       "   M_weekly  F_workers  F_weekly  \n",
       "0     895.0      48334     726.0  \n",
       "1    1486.0       5147    1139.0  \n",
       "2    2251.0        283    1836.0  \n",
       "3    1347.0        202    1002.0  \n",
       "4       NaN          4       NaN  "
      ]
     },
     "execution_count": 69,
     "metadata": {},
     "output_type": "execute_result"
    }
   ],
   "source": [
    "df.head()"
   ]
  },
  {
   "cell_type": "code",
   "execution_count": 70,
   "metadata": {},
   "outputs": [
    {
     "data": {
      "text/plain": [
       "(558, 7)"
      ]
     },
     "execution_count": 70,
     "metadata": {},
     "output_type": "execute_result"
    }
   ],
   "source": [
    "df.shape"
   ]
  },
  {
   "cell_type": "code",
   "execution_count": 71,
   "metadata": {},
   "outputs": [
    {
     "data": {
      "text/plain": [
       "Occupation     558\n",
       "All_workers    558\n",
       "All_weekly     322\n",
       "M_workers      558\n",
       "M_weekly       232\n",
       "F_workers      558\n",
       "F_weekly       192\n",
       "dtype: int64"
      ]
     },
     "execution_count": 71,
     "metadata": {},
     "output_type": "execute_result"
    }
   ],
   "source": [
    "df.count()"
   ]
  },
  {
   "cell_type": "code",
   "execution_count": 72,
   "metadata": {},
   "outputs": [
    {
     "data": {
      "text/plain": [
       "Occupation       0\n",
       "All_workers      0\n",
       "All_weekly     236\n",
       "M_workers        0\n",
       "M_weekly       326\n",
       "F_workers        0\n",
       "F_weekly       366\n",
       "dtype: int64"
      ]
     },
     "execution_count": 72,
     "metadata": {},
     "output_type": "execute_result"
    }
   ],
   "source": [
    "df.isnull().sum()"
   ]
  },
  {
   "cell_type": "code",
   "execution_count": 73,
   "metadata": {},
   "outputs": [],
   "source": [
    "#Need to drop all NaN values since they will contribute nothing to the analysis\n",
    "df = df.dropna().reset_index(drop=True) #Drop = True term drops the old index column and replaces it with a new one"
   ]
  },
  {
   "cell_type": "code",
   "execution_count": 74,
   "metadata": {},
   "outputs": [
    {
     "data": {
      "text/html": [
       "<div>\n",
       "<style scoped>\n",
       "    .dataframe tbody tr th:only-of-type {\n",
       "        vertical-align: middle;\n",
       "    }\n",
       "\n",
       "    .dataframe tbody tr th {\n",
       "        vertical-align: top;\n",
       "    }\n",
       "\n",
       "    .dataframe thead th {\n",
       "        text-align: right;\n",
       "    }\n",
       "</style>\n",
       "<table border=\"1\" class=\"dataframe\">\n",
       "  <thead>\n",
       "    <tr style=\"text-align: right;\">\n",
       "      <th></th>\n",
       "      <th>Occupation</th>\n",
       "      <th>All_workers</th>\n",
       "      <th>All_weekly</th>\n",
       "      <th>M_workers</th>\n",
       "      <th>M_weekly</th>\n",
       "      <th>F_workers</th>\n",
       "      <th>F_weekly</th>\n",
       "    </tr>\n",
       "  </thead>\n",
       "  <tbody>\n",
       "    <tr>\n",
       "      <th>0</th>\n",
       "      <td>ALL OCCUPATIONS</td>\n",
       "      <td>109080</td>\n",
       "      <td>809.0</td>\n",
       "      <td>60746</td>\n",
       "      <td>895.0</td>\n",
       "      <td>48334</td>\n",
       "      <td>726.0</td>\n",
       "    </tr>\n",
       "    <tr>\n",
       "      <th>1</th>\n",
       "      <td>MANAGEMENT</td>\n",
       "      <td>12480</td>\n",
       "      <td>1351.0</td>\n",
       "      <td>7332</td>\n",
       "      <td>1486.0</td>\n",
       "      <td>5147</td>\n",
       "      <td>1139.0</td>\n",
       "    </tr>\n",
       "    <tr>\n",
       "      <th>2</th>\n",
       "      <td>Chief executives</td>\n",
       "      <td>1046</td>\n",
       "      <td>2041.0</td>\n",
       "      <td>763</td>\n",
       "      <td>2251.0</td>\n",
       "      <td>283</td>\n",
       "      <td>1836.0</td>\n",
       "    </tr>\n",
       "    <tr>\n",
       "      <th>3</th>\n",
       "      <td>General and operations managers</td>\n",
       "      <td>823</td>\n",
       "      <td>1260.0</td>\n",
       "      <td>621</td>\n",
       "      <td>1347.0</td>\n",
       "      <td>202</td>\n",
       "      <td>1002.0</td>\n",
       "    </tr>\n",
       "    <tr>\n",
       "      <th>4</th>\n",
       "      <td>Marketing and sales managers</td>\n",
       "      <td>948</td>\n",
       "      <td>1462.0</td>\n",
       "      <td>570</td>\n",
       "      <td>1603.0</td>\n",
       "      <td>378</td>\n",
       "      <td>1258.0</td>\n",
       "    </tr>\n",
       "  </tbody>\n",
       "</table>\n",
       "</div>"
      ],
      "text/plain": [
       "                        Occupation  All_workers  All_weekly  M_workers  \\\n",
       "0                  ALL OCCUPATIONS       109080       809.0      60746   \n",
       "1                       MANAGEMENT        12480      1351.0       7332   \n",
       "2                 Chief executives         1046      2041.0        763   \n",
       "3  General and operations managers          823      1260.0        621   \n",
       "4     Marketing and sales managers          948      1462.0        570   \n",
       "\n",
       "   M_weekly  F_workers  F_weekly  \n",
       "0     895.0      48334     726.0  \n",
       "1    1486.0       5147    1139.0  \n",
       "2    2251.0        283    1836.0  \n",
       "3    1347.0        202    1002.0  \n",
       "4    1603.0        378    1258.0  "
      ]
     },
     "execution_count": 74,
     "metadata": {},
     "output_type": "execute_result"
    }
   ],
   "source": [
    "df.head()"
   ]
  },
  {
   "cell_type": "code",
   "execution_count": 75,
   "metadata": {},
   "outputs": [
    {
     "data": {
      "text/plain": [
       "Occupation     0\n",
       "All_workers    0\n",
       "All_weekly     0\n",
       "M_workers      0\n",
       "M_weekly       0\n",
       "F_workers      0\n",
       "F_weekly       0\n",
       "dtype: int64"
      ]
     },
     "execution_count": 75,
     "metadata": {},
     "output_type": "execute_result"
    }
   ],
   "source": [
    "df.isnull().sum()"
   ]
  },
  {
   "cell_type": "code",
   "execution_count": 76,
   "metadata": {},
   "outputs": [
    {
     "data": {
      "text/plain": [
       "(142, 7)"
      ]
     },
     "execution_count": 76,
     "metadata": {},
     "output_type": "execute_result"
    }
   ],
   "source": [
    "#No more null values!\n",
    "#We should also have a different size data frame, obviously\n",
    "df.shape"
   ]
  },
  {
   "cell_type": "code",
   "execution_count": 77,
   "metadata": {},
   "outputs": [],
   "source": [
    "#Now I'm going to make a dataframe with the specific job sectors, the ones in all caps\n",
    "\n",
    "sectors = []\n",
    "\n",
    "for i in range(df.count()['Occupation']):\n",
    "    x = df['Occupation'][i]\n",
    "    if x.isupper():\n",
    "        sectors.append(x)\n",
    "   "
   ]
  },
  {
   "cell_type": "code",
   "execution_count": 78,
   "metadata": {},
   "outputs": [
    {
     "data": {
      "text/plain": [
       "['ALL OCCUPATIONS',\n",
       " 'MANAGEMENT',\n",
       " 'BUSINESS',\n",
       " 'COMPUTATIONAL',\n",
       " 'ENGINEERING',\n",
       " 'SCIENCE',\n",
       " 'SOCIAL SERVICE',\n",
       " 'LEGAL',\n",
       " 'EDUCATION',\n",
       " 'ARTS',\n",
       " 'HEALTHCARE PROFESSIONAL',\n",
       " 'HEALTHCARE SUPPORT',\n",
       " 'PROTECTIVE SERVICE',\n",
       " 'CULINARY',\n",
       " 'GROUNDSKEEPING',\n",
       " 'SERVICE',\n",
       " 'SALES',\n",
       " 'OFFICE',\n",
       " 'AGRICULTURAL',\n",
       " 'CONSTRUCTION',\n",
       " 'MAINTENANCE',\n",
       " 'PRODUCTION',\n",
       " 'TRANSPORTATION']"
      ]
     },
     "execution_count": 78,
     "metadata": {},
     "output_type": "execute_result"
    }
   ],
   "source": [
    "sectors"
   ]
  },
  {
   "cell_type": "code",
   "execution_count": 79,
   "metadata": {},
   "outputs": [
    {
     "data": {
      "text/html": [
       "<div>\n",
       "<style scoped>\n",
       "    .dataframe tbody tr th:only-of-type {\n",
       "        vertical-align: middle;\n",
       "    }\n",
       "\n",
       "    .dataframe tbody tr th {\n",
       "        vertical-align: top;\n",
       "    }\n",
       "\n",
       "    .dataframe thead th {\n",
       "        text-align: right;\n",
       "    }\n",
       "</style>\n",
       "<table border=\"1\" class=\"dataframe\">\n",
       "  <thead>\n",
       "    <tr style=\"text-align: right;\">\n",
       "      <th></th>\n",
       "      <th>Occupation</th>\n",
       "      <th>All_workers</th>\n",
       "      <th>All_weekly</th>\n",
       "      <th>M_workers</th>\n",
       "      <th>M_weekly</th>\n",
       "      <th>F_workers</th>\n",
       "      <th>F_weekly</th>\n",
       "    </tr>\n",
       "  </thead>\n",
       "  <tbody>\n",
       "    <tr>\n",
       "      <th>0</th>\n",
       "      <td>ALL OCCUPATIONS</td>\n",
       "      <td>109080</td>\n",
       "      <td>809.0</td>\n",
       "      <td>60746</td>\n",
       "      <td>895.0</td>\n",
       "      <td>48334</td>\n",
       "      <td>726.0</td>\n",
       "    </tr>\n",
       "    <tr>\n",
       "      <th>1</th>\n",
       "      <td>MANAGEMENT</td>\n",
       "      <td>12480</td>\n",
       "      <td>1351.0</td>\n",
       "      <td>7332</td>\n",
       "      <td>1486.0</td>\n",
       "      <td>5147</td>\n",
       "      <td>1139.0</td>\n",
       "    </tr>\n",
       "    <tr>\n",
       "      <th>2</th>\n",
       "      <td>BUSINESS</td>\n",
       "      <td>5942</td>\n",
       "      <td>1137.0</td>\n",
       "      <td>2686</td>\n",
       "      <td>1327.0</td>\n",
       "      <td>3256</td>\n",
       "      <td>1004.0</td>\n",
       "    </tr>\n",
       "    <tr>\n",
       "      <th>3</th>\n",
       "      <td>COMPUTATIONAL</td>\n",
       "      <td>4009</td>\n",
       "      <td>1428.0</td>\n",
       "      <td>3036</td>\n",
       "      <td>1503.0</td>\n",
       "      <td>973</td>\n",
       "      <td>1245.0</td>\n",
       "    </tr>\n",
       "    <tr>\n",
       "      <th>4</th>\n",
       "      <td>ENGINEERING</td>\n",
       "      <td>2656</td>\n",
       "      <td>1424.0</td>\n",
       "      <td>2272</td>\n",
       "      <td>1452.0</td>\n",
       "      <td>383</td>\n",
       "      <td>1257.0</td>\n",
       "    </tr>\n",
       "    <tr>\n",
       "      <th>5</th>\n",
       "      <td>SCIENCE</td>\n",
       "      <td>1176</td>\n",
       "      <td>1206.0</td>\n",
       "      <td>662</td>\n",
       "      <td>1379.0</td>\n",
       "      <td>514</td>\n",
       "      <td>1067.0</td>\n",
       "    </tr>\n",
       "    <tr>\n",
       "      <th>6</th>\n",
       "      <td>SOCIAL SERVICE</td>\n",
       "      <td>2143</td>\n",
       "      <td>889.0</td>\n",
       "      <td>776</td>\n",
       "      <td>973.0</td>\n",
       "      <td>1367</td>\n",
       "      <td>845.0</td>\n",
       "    </tr>\n",
       "    <tr>\n",
       "      <th>7</th>\n",
       "      <td>LEGAL</td>\n",
       "      <td>1346</td>\n",
       "      <td>1391.0</td>\n",
       "      <td>624</td>\n",
       "      <td>1877.0</td>\n",
       "      <td>722</td>\n",
       "      <td>1135.0</td>\n",
       "    </tr>\n",
       "    <tr>\n",
       "      <th>8</th>\n",
       "      <td>EDUCATION</td>\n",
       "      <td>6884</td>\n",
       "      <td>956.0</td>\n",
       "      <td>1849</td>\n",
       "      <td>1144.0</td>\n",
       "      <td>5034</td>\n",
       "      <td>907.0</td>\n",
       "    </tr>\n",
       "    <tr>\n",
       "      <th>9</th>\n",
       "      <td>ARTS</td>\n",
       "      <td>1643</td>\n",
       "      <td>1001.0</td>\n",
       "      <td>930</td>\n",
       "      <td>1088.0</td>\n",
       "      <td>713</td>\n",
       "      <td>942.0</td>\n",
       "    </tr>\n",
       "    <tr>\n",
       "      <th>10</th>\n",
       "      <td>HEALTHCARE PROFESSIONAL</td>\n",
       "      <td>6566</td>\n",
       "      <td>1041.0</td>\n",
       "      <td>1639</td>\n",
       "      <td>1272.0</td>\n",
       "      <td>4928</td>\n",
       "      <td>991.0</td>\n",
       "    </tr>\n",
       "    <tr>\n",
       "      <th>11</th>\n",
       "      <td>HEALTHCARE SUPPORT</td>\n",
       "      <td>2395</td>\n",
       "      <td>498.0</td>\n",
       "      <td>320</td>\n",
       "      <td>577.0</td>\n",
       "      <td>2074</td>\n",
       "      <td>490.0</td>\n",
       "    </tr>\n",
       "    <tr>\n",
       "      <th>12</th>\n",
       "      <td>PROTECTIVE SERVICE</td>\n",
       "      <td>2729</td>\n",
       "      <td>796.0</td>\n",
       "      <td>2181</td>\n",
       "      <td>851.0</td>\n",
       "      <td>547</td>\n",
       "      <td>655.0</td>\n",
       "    </tr>\n",
       "    <tr>\n",
       "      <th>13</th>\n",
       "      <td>CULINARY</td>\n",
       "      <td>4124</td>\n",
       "      <td>441.0</td>\n",
       "      <td>2133</td>\n",
       "      <td>481.0</td>\n",
       "      <td>1991</td>\n",
       "      <td>414.0</td>\n",
       "    </tr>\n",
       "    <tr>\n",
       "      <th>14</th>\n",
       "      <td>GROUNDSKEEPING</td>\n",
       "      <td>3605</td>\n",
       "      <td>486.0</td>\n",
       "      <td>2330</td>\n",
       "      <td>517.0</td>\n",
       "      <td>1275</td>\n",
       "      <td>419.0</td>\n",
       "    </tr>\n",
       "    <tr>\n",
       "      <th>15</th>\n",
       "      <td>SERVICE</td>\n",
       "      <td>2427</td>\n",
       "      <td>498.0</td>\n",
       "      <td>664</td>\n",
       "      <td>597.0</td>\n",
       "      <td>1763</td>\n",
       "      <td>475.0</td>\n",
       "    </tr>\n",
       "    <tr>\n",
       "      <th>16</th>\n",
       "      <td>SALES</td>\n",
       "      <td>9725</td>\n",
       "      <td>716.0</td>\n",
       "      <td>5423</td>\n",
       "      <td>880.0</td>\n",
       "      <td>4303</td>\n",
       "      <td>578.0</td>\n",
       "    </tr>\n",
       "    <tr>\n",
       "      <th>17</th>\n",
       "      <td>OFFICE</td>\n",
       "      <td>13894</td>\n",
       "      <td>656.0</td>\n",
       "      <td>3961</td>\n",
       "      <td>693.0</td>\n",
       "      <td>9933</td>\n",
       "      <td>646.0</td>\n",
       "    </tr>\n",
       "    <tr>\n",
       "      <th>18</th>\n",
       "      <td>AGRICULTURAL</td>\n",
       "      <td>810</td>\n",
       "      <td>464.0</td>\n",
       "      <td>637</td>\n",
       "      <td>477.0</td>\n",
       "      <td>174</td>\n",
       "      <td>437.0</td>\n",
       "    </tr>\n",
       "    <tr>\n",
       "      <th>19</th>\n",
       "      <td>CONSTRUCTION</td>\n",
       "      <td>5722</td>\n",
       "      <td>749.0</td>\n",
       "      <td>5586</td>\n",
       "      <td>751.0</td>\n",
       "      <td>137</td>\n",
       "      <td>704.0</td>\n",
       "    </tr>\n",
       "    <tr>\n",
       "      <th>20</th>\n",
       "      <td>MAINTENANCE</td>\n",
       "      <td>4301</td>\n",
       "      <td>839.0</td>\n",
       "      <td>4159</td>\n",
       "      <td>842.0</td>\n",
       "      <td>143</td>\n",
       "      <td>761.0</td>\n",
       "    </tr>\n",
       "    <tr>\n",
       "      <th>21</th>\n",
       "      <td>PRODUCTION</td>\n",
       "      <td>7551</td>\n",
       "      <td>663.0</td>\n",
       "      <td>5548</td>\n",
       "      <td>729.0</td>\n",
       "      <td>2003</td>\n",
       "      <td>519.0</td>\n",
       "    </tr>\n",
       "    <tr>\n",
       "      <th>22</th>\n",
       "      <td>TRANSPORTATION</td>\n",
       "      <td>6953</td>\n",
       "      <td>646.0</td>\n",
       "      <td>5998</td>\n",
       "      <td>679.0</td>\n",
       "      <td>955</td>\n",
       "      <td>494.0</td>\n",
       "    </tr>\n",
       "  </tbody>\n",
       "</table>\n",
       "</div>"
      ],
      "text/plain": [
       "                 Occupation  All_workers  All_weekly  M_workers  M_weekly  \\\n",
       "0           ALL OCCUPATIONS       109080       809.0      60746     895.0   \n",
       "1                MANAGEMENT        12480      1351.0       7332    1486.0   \n",
       "2                  BUSINESS         5942      1137.0       2686    1327.0   \n",
       "3             COMPUTATIONAL         4009      1428.0       3036    1503.0   \n",
       "4               ENGINEERING         2656      1424.0       2272    1452.0   \n",
       "5                   SCIENCE         1176      1206.0        662    1379.0   \n",
       "6            SOCIAL SERVICE         2143       889.0        776     973.0   \n",
       "7                     LEGAL         1346      1391.0        624    1877.0   \n",
       "8                 EDUCATION         6884       956.0       1849    1144.0   \n",
       "9                      ARTS         1643      1001.0        930    1088.0   \n",
       "10  HEALTHCARE PROFESSIONAL         6566      1041.0       1639    1272.0   \n",
       "11       HEALTHCARE SUPPORT         2395       498.0        320     577.0   \n",
       "12       PROTECTIVE SERVICE         2729       796.0       2181     851.0   \n",
       "13                 CULINARY         4124       441.0       2133     481.0   \n",
       "14           GROUNDSKEEPING         3605       486.0       2330     517.0   \n",
       "15                  SERVICE         2427       498.0        664     597.0   \n",
       "16                    SALES         9725       716.0       5423     880.0   \n",
       "17                   OFFICE        13894       656.0       3961     693.0   \n",
       "18             AGRICULTURAL          810       464.0        637     477.0   \n",
       "19             CONSTRUCTION         5722       749.0       5586     751.0   \n",
       "20              MAINTENANCE         4301       839.0       4159     842.0   \n",
       "21               PRODUCTION         7551       663.0       5548     729.0   \n",
       "22           TRANSPORTATION         6953       646.0       5998     679.0   \n",
       "\n",
       "    F_workers  F_weekly  \n",
       "0       48334     726.0  \n",
       "1        5147    1139.0  \n",
       "2        3256    1004.0  \n",
       "3         973    1245.0  \n",
       "4         383    1257.0  \n",
       "5         514    1067.0  \n",
       "6        1367     845.0  \n",
       "7         722    1135.0  \n",
       "8        5034     907.0  \n",
       "9         713     942.0  \n",
       "10       4928     991.0  \n",
       "11       2074     490.0  \n",
       "12        547     655.0  \n",
       "13       1991     414.0  \n",
       "14       1275     419.0  \n",
       "15       1763     475.0  \n",
       "16       4303     578.0  \n",
       "17       9933     646.0  \n",
       "18        174     437.0  \n",
       "19        137     704.0  \n",
       "20        143     761.0  \n",
       "21       2003     519.0  \n",
       "22        955     494.0  "
      ]
     },
     "execution_count": 79,
     "metadata": {},
     "output_type": "execute_result"
    }
   ],
   "source": [
    "#Creating our new data frame with the sectors list and importing all data associated with each sector\n",
    "\n",
    "data = []\n",
    "\n",
    "for i in range(df.count()['Occupation']):\n",
    "    if df['Occupation'][i] in sectors:\n",
    "        data.append(df.loc[i])\n",
    "\n",
    "dfsectors = pd.DataFrame(data, columns = df.columns)\n",
    "dfsectors.reset_index(drop = True)"
   ]
  },
  {
   "cell_type": "code",
   "execution_count": 86,
   "metadata": {},
   "outputs": [
    {
     "data": {
      "text/plain": [
       "[Text(0,0.5,'Occupation'),\n",
       " (0, 2000),\n",
       " Text(0.5,0,'Male Median Weekly Earnings')]"
      ]
     },
     "execution_count": 86,
     "metadata": {},
     "output_type": "execute_result"
    },
    {
     "data": {
      "image/png": "[encoded data removed]",
      "text/plain": [
       "<Figure size 432x288 with 1 Axes>"
      ]
     },
     "metadata": {},
     "output_type": "display_data"
    }
   ],
   "source": [
    "#Data Visualization: Plots of Male and Female Median Weekly Earnings\n",
    "\n",
    "m_weekly_plot = sns.barplot(x = \"M_weekly\", y = \"Occupation\", data = dfsectors.sort_values(\"M_weekly\", ascending = False))\n",
    "m_weekly_plot.set(xlim = (0,2000), xlabel = \"Male Median Weekly Earnings\", ylabel = \"Occupation\" )\n",
    "\n"
   ]
  },
  {
   "cell_type": "code",
   "execution_count": 89,
   "metadata": {},
   "outputs": [
    {
     "data": {
      "text/plain": [
       "[Text(0,0.5,'Occupation'),\n",
       " (0, 2000),\n",
       " Text(0.5,0,'Female Median Weekly Earnings')]"
      ]
     },
     "execution_count": 89,
     "metadata": {},
     "output_type": "execute_result"
    },
    {
     "data": {
      "image/png": "[encoded data removed]",
      "text/plain": [
       "<Figure size 432x288 with 1 Axes>"
      ]
     },
     "metadata": {},
     "output_type": "display_data"
    }
   ],
   "source": [
    "f_weekly_plot = sns.barplot(x = \"F_weekly\", y = \"Occupation\", data = dfsectors.sort_values(\"F_weekly\", ascending = False))\n",
    "\n",
    "f_weekly_plot.set(xlim = (0,2000), xlabel = \"Female Median Weekly Earnings\", ylabel = \"Occupation\" )"
   ]
  },
  {
   "cell_type": "code",
   "execution_count": null,
   "metadata": {},
   "outputs": [],
   "source": []
  }
 ],
 "metadata": {
  "kernelspec": {
   "display_name": "Python 3",
   "language": "python",
   "name": "python3"
  },
  "language_info": {
   "codemirror_mode": {
    "name": "ipython",
    "version": 3
   },
   "file_extension": ".py",
   "mimetype": "text/x-python",
   "name": "python",
   "nbconvert_exporter": "python",
   "pygments_lexer": "ipython3",
   "version": "3.6.2"
  }
 },
 "nbformat": 4,
 "nbformat_minor": 2
}
